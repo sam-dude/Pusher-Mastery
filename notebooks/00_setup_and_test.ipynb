{
 "cells": [
  {
   "cell_type": "markdown",
   "metadata": {},
   "source": [
    "# 00 - Setup and Test\n",
    "\n",
    "**Goal:** Verify everything is installed correctly and test the Pusher environment.\n",
    "\n",
    "**Time:** 15-20 minutes\n",
    "\n",
    "**What you'll learn:**\n",
    "- How to import required libraries\n",
    "- How to create the Pusher environment\n",
    "- How to run a simple episode\n",
    "\n",
    "---"
   ]
  },
  {
   "cell_type": "markdown",
   "metadata": {},
   "source": [
    "## 1. Setup and Imports"
   ]
  },
  {
   "cell_type": "code",
   "metadata": {
    "ExecuteTime": {
     "end_time": "2025-10-06T23:16:28.463650Z",
     "start_time": "2025-10-06T23:16:27.772110Z"
    }
   },
   "source": [
    "# Standard imports\n",
    "import numpy as np\n",
    "import matplotlib.pyplot as plt\n",
    "import seaborn as sns\n",
    "from IPython.display import display, HTML, Image\n",
    "import sys\n",
    "import os\n",
    "\n",
    "# Add src to path so we can import our modules\n",
    "sys.path.append(os.path.abspath('../src'))\n",
    "\n",
    "# Set plotting style\n",
    "sns.set_style('whitegrid')\n",
    "plt.rcParams['figure.figsize'] = (12, 6)\n",
    "plt.rcParams['font.size'] = 10\n",
    "\n",
    "print(\"✅ Standard libraries imported\")"
   ],
   "outputs": [
    {
     "name": "stdout",
     "output_type": "stream",
     "text": [
      "✅ Standard libraries imported\n"
     ]
    }
   ],
   "execution_count": 2
  },
  {
   "cell_type": "code",
   "metadata": {
    "ExecuteTime": {
     "end_time": "2025-10-06T23:24:31.149105Z",
     "start_time": "2025-10-06T23:24:27.330480Z"
    }
   },
   "source": [
    "# PyTorch\n",
    "import torch\n",
    "import torch.nn as nn\n",
    "import torch.optim as optim\n",
    "\n",
    "print(f\"✅ PyTorch {torch.__version__} imported\")\n",
    "print(f\"   CUDA available: {torch.cuda.is_available()}\")\n",
    "if torch.cuda.is_available():\n",
    "    print(f\"   GPU: {torch.cuda.get_device_name(0)}\")\n",
    "else:\n",
    "    print(\"   Using CPU (this is fine for now!)\")"
   ],
   "outputs": [
    {
     "name": "stdout",
     "output_type": "stream",
     "text": [
      "✅ PyTorch 2.8.0+cpu imported\n",
      "   CUDA available: False\n",
      "   Using CPU (this is fine for now!)\n"
     ]
    }
   ],
   "execution_count": 4
  },
  {
   "cell_type": "code",
   "metadata": {
    "ExecuteTime": {
     "end_time": "2025-10-06T23:24:43.432537Z",
     "start_time": "2025-10-06T23:24:43.055907Z"
    }
   },
   "source": [
    "# Gymnasium and MuJoCo\n",
    "import gymnasium as gym\n",
    "\n",
    "print(f\"✅ Gymnasium {gym.__version__} imported\")\n",
    "print(\"   Testing MuJoCo...\")\n",
    "\n",
    "try:\n",
    "    test_env = gym.make(\"Pusher-v5\")\n",
    "    test_env.reset()\n",
    "    test_env.close()\n",
    "    print(\"   ✅ MuJoCo working! Pusher environment created successfully.\")\n",
    "except Exception as e:\n",
    "    print(f\"   ❌ Error: {e}\")\n",
    "    print(\"   Try: pip install gymnasium[mujoco]\")"
   ],
   "outputs": [
    {
     "name": "stdout",
     "output_type": "stream",
     "text": [
      "✅ Gymnasium 1.2.1 imported\n",
      "   Testing MuJoCo...\n",
      "   ✅ MuJoCo working! Pusher environment created successfully.\n"
     ]
    }
   ],
   "execution_count": 5
  },
  {
   "cell_type": "markdown",
   "metadata": {},
   "source": [
    "## 2. Create and Inspect Environment"
   ]
  },
  {
   "cell_type": "code",
   "metadata": {
    "ExecuteTime": {
     "end_time": "2025-10-06T23:28:28.678188Z",
     "start_time": "2025-10-06T23:28:28.660253Z"
    }
   },
   "source": [
    "# Create Pusher environment\n",
    "env = gym.make(\"Pusher-v5\")\n",
    "\n",
    "print(\"📊 Environment Information:\")\n",
    "print(\"=\" * 60)\n",
    "print(f\"Observation space: {env.observation_space}\")\n",
    "print(f\"  Shape: {env.observation_space.shape}\")\n",
    "print(f\"  Type: {env.observation_space.dtype}\")\n",
    "print()\n",
    "print(f\"Action space: {env.action_space}\")\n",
    "print(f\"  Shape: {env.action_space.shape}\")\n",
    "print(f\"  Range: [{env.action_space.low[0]:.1f}, {env.action_space.high[0]:.1f}]\")\n",
    "print(\"=\" * 60)"
   ],
   "outputs": [
    {
     "name": "stdout",
     "output_type": "stream",
     "text": [
      "📊 Environment Information:\n",
      "============================================================\n",
      "Observation space: Box(-inf, inf, (23,), float64)\n",
      "  Shape: (23,)\n",
      "  Type: float64\n",
      "\n",
      "Action space: Box(-2.0, 2.0, (7,), float32)\n",
      "  Shape: (7,)\n",
      "  Range: [-2.0, 2.0]\n",
      "============================================================\n"
     ]
    }
   ],
   "execution_count": 7
  },
  {
   "cell_type": "markdown",
   "metadata": {},
   "source": [
    "### Understanding the Spaces\n",
    "\n",
    "**Observation Space (23 dimensions):**\n",
    "- Indices 0-6: Joint positions\n",
    "- Indices 7-13: Joint velocities  \n",
    "- Indices 14-16: Fingertip position (x, y, z)\n",
    "- Indices 17-19: Object position (x, y, z)\n",
    "- Indices 20-22: Goal position (x, y, z)\n",
    "\n",
    "**Action Space (7 dimensions):**\n",
    "- Each value is a torque applied to one joint\n",
    "- Range: [-2, 2] for each joint"
   ]
  },
  {
   "cell_type": "markdown",
   "metadata": {},
   "source": [
    "## 3. Test a Single Episode"
   ]
  },
  {
   "cell_type": "code",
   "metadata": {
    "ExecuteTime": {
     "end_time": "2025-10-06T23:29:30.115009Z",
     "start_time": "2025-10-06T23:29:30.103119Z"
    }
   },
   "source": [
    "# Reset environment\n",
    "obs, info = env.reset(seed=42)\n",
    "\n",
    "print(\"🎬 Initial Observation:\")\n",
    "print(f\"  Full observation shape: {obs.shape}\")\n",
    "print(f\"  Fingertip position: {obs[14:17]}\")\n",
    "print(f\"  Object position:    {obs[17:20]}\")\n",
    "print(f\"  Goal position:      {obs[20:23]}\")\n",
    "print()\n",
    "\n",
    "# Calculate initial distance\n",
    "initial_distance = np.linalg.norm(obs[17:20] - obs[20:23])\n",
    "print(f\"  Initial distance (object → goal): {initial_distance:.4f}\")"
   ],
   "outputs": [
    {
     "name": "stdout",
     "output_type": "stream",
     "text": [
      "🎬 Initial Observation:\n",
      "  Full observation shape: (23,)\n",
      "  Fingertip position: [ 0.821 -0.6    0.   ]\n",
      "  Object position:    [ 0.64024894 -0.3217468  -0.275     ]\n",
      "  Goal position:      [ 0.45  -0.05  -0.323]\n",
      "\n",
      "  Initial distance (object → goal): 0.3352\n"
     ]
    }
   ],
   "execution_count": 8
  },
  {
   "cell_type": "code",
   "metadata": {
    "ExecuteTime": {
     "end_time": "2025-10-06T23:32:04.821967Z",
     "start_time": "2025-10-06T23:32:04.788054Z"
    }
   },
   "source": [
    "# Run one episode with random actions\n",
    "print(\"🎲 Running episode with random actions...\\n\")\n",
    "\n",
    "obs, _ = env.reset(seed=42)\n",
    "total_reward = 0\n",
    "distances = []\n",
    "\n",
    "for step in range(50):  # 50 steps for quick test\n",
    "    # Take random action\n",
    "    action = env.action_space.sample()\n",
    "    \n",
    "    # Step environment\n",
    "    obs, reward, terminated, truncated, info = env.step(action)\n",
    "    \n",
    "    total_reward += reward\n",
    "    \n",
    "    # Track distance\n",
    "    distance = np.linalg.norm(obs[17:20] - obs[20:23])\n",
    "    distances.append(distance)\n",
    "    \n",
    "    if step % 10 == 0:\n",
    "        print(f\"  Step {step:3d}: reward={reward:7.3f}, distance={distance:.4f}\")\n",
    "    \n",
    "    if terminated or truncated:\n",
    "        print(f\"\\n  Episode ended at step {step}\")\n",
    "        break\n",
    "\n",
    "print(f\"\\n📈 Results:\")\n",
    "print(f\"  Total reward: {total_reward:.2f}\")\n",
    "print(f\"  Final distance: {distances[-1]:.4f}\")\n",
    "print(f\"  Steps taken: {len(distances)}\")\n",
    "\n",
    "env.close()"
   ],
   "outputs": [
    {
     "name": "stdout",
     "output_type": "stream",
     "text": [
      "🎲 Running episode with random actions...\n",
      "\n",
      "  Step   0: reward= -1.703, distance=0.3352\n",
      "  Step  10: reward= -1.383, distance=0.3352\n",
      "  Step  20: reward= -1.234, distance=0.3352\n",
      "  Step  30: reward= -1.687, distance=0.3352\n",
      "  Step  40: reward= -1.316, distance=0.3352\n",
      "\n",
      "📈 Results:\n",
      "  Total reward: -73.63\n",
      "  Final distance: 0.3352\n",
      "  Steps taken: 50\n"
     ]
    }
   ],
   "execution_count": 9
  },
  {
   "cell_type": "markdown",
   "metadata": {},
   "source": [
    "## 4. Visualize Distance Over Time"
   ]
  },
  {
   "cell_type": "code",
   "metadata": {
    "ExecuteTime": {
     "end_time": "2025-10-06T23:33:01.272167Z",
     "start_time": "2025-10-06T23:33:00.807635Z"
    }
   },
   "source": [
    "# Plot how distance changed over the episode\n",
    "plt.figure(figsize=(10, 5))\n",
    "plt.plot(distances, linewidth=2)\n",
    "plt.axhline(y=0.05, color='g', linestyle='--', label='Success threshold')\n",
    "plt.xlabel('Step')\n",
    "plt.ylabel('Distance (object → goal)')\n",
    "plt.title('Distance Evolution (Random Policy)')\n",
    "plt.legend()\n",
    "plt.grid(alpha=0.3)\n",
    "plt.tight_layout()\n",
    "plt.savefig('../results/figures/test_episode.png', dpi=150, bbox_inches='tight')\n",
    "plt.show()\n",
    "\n",
    "print(\"💾 Figure saved to results/figures/test_episode.png\")"
   ],
   "outputs": [
    {
     "data": {
      "text/plain": [
       "<Figure size 1000x500 with 1 Axes>"
      ],
      "image/png": "[encoded data removed]"
     },
     "metadata": {},
     "output_type": "display_data"
    },
    {
     "name": "stdout",
     "output_type": "stream",
     "text": [
      "💾 Figure saved to results/figures/test_episode.png\n"
     ]
    }
   ],
   "execution_count": 10
  },
  {
   "cell_type": "markdown",
   "metadata": {},
   "source": [
    "## 5. Quick Statistics"
   ]
  },
  {
   "cell_type": "code",
   "metadata": {
    "ExecuteTime": {
     "end_time": "2025-10-06T23:33:31.840656Z",
     "start_time": "2025-10-06T23:33:31.646460Z"
    }
   },
   "source": [
    "# Run 10 quick episodes to get baseline stats\n",
    "print(\"🔬 Running 10 random episodes for baseline statistics...\\n\")\n",
    "\n",
    "env = gym.make(\"Pusher-v5\")\n",
    "episode_rewards = []\n",
    "episode_distances = []\n",
    "\n",
    "for episode in range(10):\n",
    "    obs, _ = env.reset()\n",
    "    total_reward = 0\n",
    "    \n",
    "    for step in range(100):\n",
    "        action = env.action_space.sample()\n",
    "        obs, reward, terminated, truncated, _ = env.step(action)\n",
    "        total_reward += reward\n",
    "        \n",
    "        if terminated or truncated:\n",
    "            break\n",
    "    \n",
    "    final_distance = np.linalg.norm(obs[17:20] - obs[20:23])\n",
    "    episode_rewards.append(total_reward)\n",
    "    episode_distances.append(final_distance)\n",
    "    \n",
    "    print(f\"  Episode {episode+1:2d}: reward={total_reward:7.2f}, distance={final_distance:.4f}\")\n",
    "\n",
    "env.close()\n",
    "\n",
    "print(\"\\n📊 Random Policy Baseline:\")\n",
    "print(f\"  Average reward:   {np.mean(episode_rewards):7.2f} ± {np.std(episode_rewards):.2f}\")\n",
    "print(f\"  Average distance: {np.mean(episode_distances):.4f} ± {np.std(episode_distances):.4f}\")\n",
    "print(f\"  Success rate:     {sum(d < 0.05 for d in episode_distances)}/10\")"
   ],
   "outputs": [
    {
     "name": "stdout",
     "output_type": "stream",
     "text": [
      "🔬 Running 10 random episodes for baseline statistics...\n",
      "\n",
      "  Episode  1: reward=-165.84, distance=0.2554\n",
      "  Episode  2: reward=-150.05, distance=0.2531\n",
      "  Episode  3: reward=-131.62, distance=0.2474\n",
      "  Episode  4: reward=-150.15, distance=0.2682\n",
      "  Episode  5: reward=-160.18, distance=0.1987\n",
      "  Episode  6: reward=-151.05, distance=0.2919\n",
      "  Episode  7: reward=-149.99, distance=0.2232\n",
      "  Episode  8: reward=-162.73, distance=0.3293\n",
      "  Episode  9: reward=-153.03, distance=0.2953\n",
      "  Episode 10: reward=-164.47, distance=0.3573\n",
      "\n",
      "📊 Random Policy Baseline:\n",
      "  Average reward:   -153.91 ± 9.60\n",
      "  Average distance: 0.2720 ± 0.0453\n",
      "  Success rate:     0/10\n"
     ]
    }
   ],
   "execution_count": 11
  },
  {
   "cell_type": "markdown",
   "metadata": {},
   "source": [
    "## 6. Summary and Next Steps"
   ]
  },
  {
   "cell_type": "markdown",
   "metadata": {},
   "source": [
    "### ✅ What We Verified\n",
    "\n",
    "1. All libraries installed correctly\n",
    "2. Pusher environment works\n",
    "3. We can run episodes and collect data\n",
    "4. Random policy performs poorly (as expected!)\n",
    "\n",
    "### 📝 Key Observations\n",
    "\n",
    "Write your observations here:\n",
    "- Random policy success rate: 0/10\n",
    "- Average distance achieved: 0.2720 ± 0.0453\n",
    "- Typical reward: -153.91 ± 9.60\n",
    "- What did you notice about the robot's behavior?\n",
    "\n",
    "### 🎯 Next Steps\n",
    "\n",
    "1. Open `01_environment_exploration.ipynb`\n",
    "2. Deep dive into understanding the environment\n",
    "3. Learn what each observation and action means\n",
    "\n",
    "---\n",
    "\n",
    "**Ready to continue? Open the next notebook!** 🚀"
   ]
  }
 ],
 "metadata": {
  "kernelspec": {
   "display_name": "Python 3",
   "language": "python",
   "name": "python3"
  },
  "language_info": {
   "codemirror_mode": {
    "name": "ipython",
    "version": 3
   },
   "file_extension": ".py",
   "mimetype": "text/x-python",
   "name": "python",
   "nbconvert_exporter": "python",
   "pygments_lexer": "ipython3",
   "version": "3.8.0"
  }
 },
 "nbformat": 4,
 "nbformat_minor": 4
}
