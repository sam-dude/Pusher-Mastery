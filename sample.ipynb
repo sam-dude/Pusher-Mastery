{
 "cells": [
  {
   "metadata": {},
   "cell_type": "markdown",
   "source": [
    "# A Robot Experiment: Pusher\n",
    "\n",
    "This is my exploration of the reinforcement leaning for a continuos learning space multi-agent system"
   ],
   "id": "8a77807f92f26ee"
  },
  {
   "metadata": {},
   "cell_type": "markdown",
   "source": "##### Import packages needed",
   "id": "b173b7561f8aa835"
  },
  {
   "metadata": {
    "ExecuteTime": {
     "end_time": "2025-10-03T12:36:55.674333Z",
     "start_time": "2025-10-03T12:36:55.513475Z"
    }
   },
   "cell_type": "code",
   "source": "import gymnasium as gym",
   "id": "5aea299b04dc03c5",
   "outputs": [],
   "execution_count": 1
  },
  {
   "metadata": {
    "ExecuteTime": {
     "end_time": "2025-10-03T12:37:13.551187Z",
     "start_time": "2025-10-03T12:36:55.919034Z"
    }
   },
   "cell_type": "code",
   "source": [
    "env = gym.make(\"Pusher-v5\", render_mode=\"human\")\n",
    "print(f\"Observation space: {env.observation_space}\")\n",
    "print(f\"Action space: {env.action_space}\")\n",
    "\n",
    "# Test random policy\n",
    "obs, info = env.reset()\n",
    "for _ in range(1000):\n",
    "    action = env.action_space.sample()\n",
    "    obs, reward, terminated, truncated, info = env.step(action)\n",
    "    if terminated or truncated:\n",
    "        obs, info = env.reset()"
   ],
   "id": "fbc121e30a2defb3",
   "outputs": [
    {
     "name": "stdout",
     "output_type": "stream",
     "text": [
      "Observation space: Box(-inf, inf, (23,), float64)\n",
      "Action space: Box(-2.0, 2.0, (7,), float32)\n"
     ]
    }
   ],
   "execution_count": 2
  },
  {
   "metadata": {},
   "cell_type": "code",
   "outputs": [],
   "execution_count": null,
   "source": "",
   "id": "45cbd5f14dcb0a4e"
  }
 ],
 "metadata": {
  "kernelspec": {
   "display_name": "Python 3",
   "language": "python",
   "name": "python3"
  },
  "language_info": {
   "codemirror_mode": {
    "name": "ipython",
    "version": 2
   },
   "file_extension": ".py",
   "mimetype": "text/x-python",
   "name": "python",
   "nbconvert_exporter": "python",
   "pygments_lexer": "ipython2",
   "version": "2.7.6"
  }
 },
 "nbformat": 4,
 "nbformat_minor": 5
}
